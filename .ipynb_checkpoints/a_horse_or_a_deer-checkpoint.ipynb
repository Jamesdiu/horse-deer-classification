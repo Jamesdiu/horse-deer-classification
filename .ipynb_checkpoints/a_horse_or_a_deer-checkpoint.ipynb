{
 "cells": [
  {
   "cell_type": "markdown",
   "id": "magnetic-mortality",
   "metadata": {},
   "source": [
    "# Zhao Gao's Classification\n",
    "\n",
    "Zhao Gao was one of the imperial chancellors during the Qin dynasty and his classification became an idiom in Chinese history. Let's find out what is so special about that."
   ]
  },
  {
   "cell_type": "code",
   "execution_count": null,
   "id": "miniature-match",
   "metadata": {},
   "outputs": [],
   "source": [
    "#import urllib.request\n",
    "from fastai.vision import *\n",
    "from fastai.imports import *\n",
    "from fastai.learner import *\n",
    "from fastai.vision.core import *\n",
    "from fastai.vision.widgets import *\n",
    "import ipywidgets as widgets\n",
    "from IPython.display import display"
   ]
  },
  {
   "cell_type": "code",
   "execution_count": null,
   "id": "literary-activation",
   "metadata": {},
   "outputs": [],
   "source": [
    "# import fastai"
   ]
  },
  {
   "cell_type": "code",
   "execution_count": null,
   "id": "binding-cannon",
   "metadata": {},
   "outputs": [],
   "source": [
    "path=Path()\n",
    "learn_inf = load_learner(path/'export.pkl', cpu=True)\n",
    "btn_run = widgets.Button(description='Ask Zhao Gao')\n",
    "out_pl = widgets.Output()\n",
    "lbl_pred = widgets.Label()"
   ]
  },
  {
   "cell_type": "code",
   "execution_count": null,
   "id": "expensive-nursing",
   "metadata": {},
   "outputs": [],
   "source": [
    "def on_click_classify(change):\n",
    "    img = PILImage.create(btn_upload.data[-1])\n",
    "    out_pl.clear_output()\n",
    "    with out_pl: display(img.to_thumb(128,128))\n",
    "    pred,pred_idx,probs = learn_inf.predict(img)\n",
    "    \n",
    "#     if pred == 'horse': zhao = 'deer'\n",
    "#     else: zhao = 'horse'\n",
    "        \n",
    "#     lbl_pred.value = f'Zhao Gao would probably say it is a {zhao}, but it is {probs[pred_idx]*100:.02f}% a {pred}!'\n",
    "#     print(lbl_pred)\n",
    "  \n",
    "    lbl_pred.value = 'Zhao Gao would probably say it is a zhao, but it is {perc:.02f}% a {result}!'.format(\n",
    "    perc = probs[pred_idx]*100,\n",
    "    result = pred        \n",
    "    )\n",
    "    \n",
    "btn_run.on_click(on_click_classify)"
   ]
  },
  {
   "cell_type": "code",
   "execution_count": null,
   "id": "appointed-barrel",
   "metadata": {},
   "outputs": [],
   "source": [
    "btn_upload = widgets.FileUpload()"
   ]
  },
  {
   "cell_type": "code",
   "execution_count": null,
   "id": "blessed-means",
   "metadata": {},
   "outputs": [],
   "source": [
    "display(\n",
    "    VBox([widgets.Label(\"Please upload an image of a horse or a deer.\"), \n",
    "          btn_upload, btn_run, out_pl, lbl_pred])\n",
    ")"
   ]
  }
 ],
 "metadata": {
  "kernelspec": {
   "display_name": "Python 3",
   "language": "python",
   "name": "python3"
  },
  "language_info": {
   "codemirror_mode": {
    "name": "ipython",
    "version": 3
   },
   "file_extension": ".py",
   "mimetype": "text/x-python",
   "name": "python",
   "nbconvert_exporter": "python",
   "pygments_lexer": "ipython3",
   "version": "3.6.10"
  }
 },
 "nbformat": 4,
 "nbformat_minor": 5
}
