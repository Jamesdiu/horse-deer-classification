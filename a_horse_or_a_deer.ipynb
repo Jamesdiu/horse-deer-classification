{
 "cells": [
  {
   "cell_type": "code",
   "execution_count": 1,
   "id": "cellular-given",
   "metadata": {},
   "outputs": [],
   "source": [
    "from fastai.vision import *\n",
    "from fastai.imports import *\n",
    "from fastai.learner import *\n",
    "from fastai.vision.core import *\n",
    "from fastai.vision.widgets import *\n",
    "import ipywidgets as widgets\n",
    "from IPython.display import display"
   ]
  },
  {
   "cell_type": "markdown",
   "id": "military-cornell",
   "metadata": {},
   "source": [
    "# Zhao Gao's Classification\n",
    "\n",
    "Zhao Gao was one of the imperial chancellors during the Qin dynasty and his classification became an idiom in Chinese history. Let's find out what is so special about that."
   ]
  },
  {
   "cell_type": "code",
   "execution_count": 3,
   "id": "increasing-playlist",
   "metadata": {},
   "outputs": [
    {
     "data": {
      "text/plain": [
       "['deer', 'horse']"
      ]
     },
     "execution_count": 3,
     "metadata": {},
     "output_type": "execute_result"
    }
   ],
   "source": [
    "path=Path('.')\n",
    "out_pl = widgets.Output()\n",
    "learn_inf = load_learner(path/'export.pkl', cpu=True)"
   ]
  },
  {
   "cell_type": "code",
   "execution_count": null,
   "id": "absent-national",
   "metadata": {},
   "outputs": [],
   "source": [
    "# interface\n",
    "import ipywidgets as widgets\n",
    "from IPython.display import display\n",
    "\n",
    "def classify_on_click(btn):\n",
    "    htmlResult.value = \"<h3>Analysing...</h3>\"\n",
    "\n",
    "    img = PILImage.create(uploader.data[-1])\n",
    "    out_pl.clear_output()\n",
    "    with out_pl: display(img.to_thumb(128,128))        \n",
    "        \n",
    "    pred,_,probs = learn_inf.predict(img)    \n",
    "    htmlResult.value = \"<h3>test2</h3>\"\n",
    "    classes = learn_inf.dls.vocab    \n",
    "    htmlResult.value = \"<h3>test3</h3>\"\n",
    "    probs_list = probs.tolist()\n",
    "    htmlResult.value = \"<h3>test4</h3>\"\n",
    "    \n",
    "    if pred == classes[0]: zhao = classes[1]\n",
    "    else: zhao = classes[0]\n",
    "  \n",
    "    html = \"<div align='center'>\"\n",
    "    html += \"<h3>Zhao Gao would say: it is a \" + zhao + \"!</h3>\"\n",
    "    html += \"But it has the probabilities that: \" \n",
    "    html += \"<p>{:1.2f}%\".format(probs_list[0]*100) + \" is a \"  + classes[0] + \"</p>\"\n",
    "    html += \"<p>{:1.2f}%\".format(probs_list[1]*100) + \" is a \"  + classes[1] + \"</p>\"\n",
    "    html += \"</div>\"\n",
    "   \n",
    "    htmlResult.value = html\n",
    "\n",
    "uploader = widgets.FileUpload()\n",
    "\n",
    "btnClassify = widgets.Button(description=\"Ask Zhao Gao\")\n",
    "btnClassify.on_click(classify_on_click)\n",
    "\n",
    "boxV1 = widgets.VBox([uploader, btnClassify])\n",
    "\n",
    "htmlResult = widgets.HTML(value=\"<h3>What would Zhao Gao say?</h3>\")\n",
    "htmlResult.layout.margin = \"0px 0px 40px 0px\"\n",
    "\n",
    "boxV2 = widgets.VBox([out_pl, boxV1, htmlResult])\n",
    "\n",
    "boxV2.layout.align_items = \"center\"\n",
    "display(boxV2)"
   ]
  }
 ],
 "metadata": {
  "kernelspec": {
   "display_name": "Python 3",
   "language": "python",
   "name": "python3"
  },
  "language_info": {
   "codemirror_mode": {
    "name": "ipython",
    "version": 3
   },
   "file_extension": ".py",
   "mimetype": "text/x-python",
   "name": "python",
   "nbconvert_exporter": "python",
   "pygments_lexer": "ipython3",
   "version": "3.6.10"
  }
 },
 "nbformat": 4,
 "nbformat_minor": 5
}
